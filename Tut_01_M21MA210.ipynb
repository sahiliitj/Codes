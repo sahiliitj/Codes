{
  "nbformat": 4,
  "nbformat_minor": 0,
  "metadata": {
    "colab": {
      "provenance": []
    },
    "kernelspec": {
      "name": "python3",
      "display_name": "Python 3"
    },
    "language_info": {
      "name": "python"
    }
  },
  "cells": [
    {
      "cell_type": "markdown",
      "source": [
        "# Question 1"
      ],
      "metadata": {
        "id": "s7_0gfq1O2PJ"
      }
    },
    {
      "cell_type": "code",
      "source": [
        "# Code to implement Gauss Jacobi Method\n",
        "import numpy as np\n",
        "def gauss_jacobi(A, b, x0, tol, itr):\n",
        "    n = len(b)\n",
        "    x = x0.copy()\n",
        "    x_new = np.zeros_like(x, dtype=float)\n",
        "    for j in range(itr):\n",
        "        for i in range(n):\n",
        "            sum = np.dot(A[i, :i], x[:i]) + np.dot(A[i, i + 1:], x[i + 1:])\n",
        "            x_new[i] = (b[i] - sum) / A[i, i]\n",
        "        error = np.linalg.norm(x_new - x)\n",
        "        print(f\"Iteration {j + 1}:\\tx = {', '.join(f'{val:.6f}' for val in x_new)},\\tError = {error:.6f}\")\n",
        "        if error < tol:\n",
        "            print(f\"Gauss-Jacobi method converged after {j + 1} iterations.\")\n",
        "            return x_new\n",
        "        x = x_new.copy()\n",
        "    raise ValueError(\"Method doesn't converge in given number of iterations\")\n"
      ],
      "metadata": {
        "id": "Xm9mRJ4oIjq7"
      },
      "execution_count": 1,
      "outputs": []
    },
    {
      "cell_type": "code",
      "source": [
        "# Code to implement Gauss Seidel Method\n",
        "import numpy as np\n",
        "def gauss_seidel(A, b, x0, tol, iter):\n",
        "    n = len(b)\n",
        "    x = x0.copy()\n",
        "    for j in range(iter):\n",
        "        for i in range(n):\n",
        "            sum_ = np.dot(A[i, :i], x[:i]) + np.dot(A[i, i + 1:], x[i + 1:])\n",
        "            x[i] = (b[i] - sum_) / A[i, i]\n",
        "        error = np.linalg.norm(np.dot(A, x) - b)\n",
        "        print(f\"Iteration {j + 1}:\\tx = {', '.join(f'{val:.6f}' for val in x)},\\tError = {error:.6f}\")\n",
        "        if error < tol:\n",
        "            print(f\"Gauss-Seidel method converged after {j + 1} iterations.\")\n",
        "            return x\n",
        "    raise ValueError(\"Gauss-Seidel method did not converge\")"
      ],
      "metadata": {
        "id": "QzA74oetPBlf"
      },
      "execution_count": 2,
      "outputs": []
    },
    {
      "cell_type": "code",
      "source": [
        "A = np.array([[8., -1., 2.],\n",
        "              [-1., 6., -1.],\n",
        "              [2., -1., 9.]])\n",
        "b = np.array([2., 5., -11.])\n",
        "x0 = np.zeros_like(b)"
      ],
      "metadata": {
        "id": "UtthPXaQPGtb"
      },
      "execution_count": 3,
      "outputs": []
    },
    {
      "cell_type": "code",
      "source": [
        "itr = int(input(\"Enter the number of maximum iterations: \"))\n",
        "print(\"Gauss-Jacobi Method:\")\n",
        "x_jacobi = gauss_jacobi(A, b, x0,1e-6,itr)\n",
        "print(\"\\nSolution given by Gauss-Jacobi method:\")\n",
        "print(x_jacobi)"
      ],
      "metadata": {
        "colab": {
          "base_uri": "https://localhost:8080/"
        },
        "id": "OVaXUJqnPOqC",
        "outputId": "38694a95-f201-4c92-d7ce-683514184688"
      },
      "execution_count": 4,
      "outputs": [
        {
          "output_type": "stream",
          "name": "stdout",
          "text": [
            "Enter the number of maximum iterations: 100\n",
            "Gauss-Jacobi Method:\n",
            "Iteration 1:\tx = 0.250000, 0.833333, -1.222222,\tError = 1.500257\n",
            "Iteration 2:\tx = 0.659722, 0.671296, -1.185185,\tError = 0.442154\n",
            "Iteration 3:\tx = 0.630208, 0.745756, -1.294239,\tError = 0.135307\n",
            "Iteration 4:\tx = 0.666779, 0.722662, -1.279407,\tError = 0.045725\n",
            "Iteration 5:\tx = 0.660184, 0.731229, -1.290100,\tError = 0.015206\n",
            "Iteration 6:\tx = 0.663929, 0.728347, -1.287682,\tError = 0.005307\n",
            "Iteration 7:\tx = 0.662964, 0.729374, -1.288834,\tError = 0.001820\n",
            "Iteration 8:\tx = 0.663380, 0.729022, -1.288506,\tError = 0.000637\n",
            "Iteration 9:\tx = 0.663254, 0.729146, -1.288638,\tError = 0.000221\n",
            "Iteration 10:\tx = 0.663303, 0.729103, -1.288596,\tError = 0.000077\n",
            "Iteration 11:\tx = 0.663287, 0.729118, -1.288611,\tError = 0.000027\n",
            "Iteration 12:\tx = 0.663293, 0.729113, -1.288606,\tError = 0.000009\n",
            "Iteration 13:\tx = 0.663291, 0.729114, -1.288608,\tError = 0.000003\n",
            "Iteration 14:\tx = 0.663291, 0.729114, -1.288607,\tError = 0.000001\n",
            "Iteration 15:\tx = 0.663291, 0.729114, -1.288608,\tError = 0.000000\n",
            "Gauss-Jacobi method converged after 15 iterations.\n",
            "\n",
            "Solution given by Gauss-Jacobi method:\n",
            "[ 0.66329108  0.72911398 -1.28860765]\n"
          ]
        }
      ]
    },
    {
      "cell_type": "code",
      "source": [
        "itr = int(input(\"Enter the number of maximum iterations: \"))\n",
        "print(\"Gauss-Seidel Method:\")\n",
        "x_seidel = gauss_seidel(A, b, x0,1e-6,itr)\n",
        "print(\"\\nSolution given by Gauss-Jacobi method:\")\n",
        "print(x_seidel)"
      ],
      "metadata": {
        "colab": {
          "base_uri": "https://localhost:8080/"
        },
        "id": "qxaqfCk4PF_b",
        "outputId": "ef197690-74b9-47bb-8336-46596776d0cc"
      },
      "execution_count": 5,
      "outputs": [
        {
          "output_type": "stream",
          "name": "stdout",
          "text": [
            "Enter the number of maximum iterations: 100\n",
            "Gauss-Seidel Method:\n",
            "Iteration 1:\tx = 0.250000, 0.875000, -1.180556,\tError = 3.444724\n",
            "Iteration 2:\tx = 0.654514, 0.745660, -1.284819,\tError = 0.130924\n",
            "Iteration 3:\tx = 0.664412, 0.729932, -1.288766,\tError = 0.008772\n",
            "Iteration 4:\tx = 0.663433, 0.729111, -1.288639,\tError = 0.001081\n",
            "Iteration 5:\tx = 0.663299, 0.729110, -1.288610,\tError = 0.000068\n",
            "Iteration 6:\tx = 0.663291, 0.729114, -1.288608,\tError = 0.000002\n",
            "Iteration 7:\tx = 0.663291, 0.729114, -1.288608,\tError = 0.000000\n",
            "Gauss-Seidel method converged after 7 iterations.\n",
            "\n",
            "Solution given by Gauss-Jacobi method:\n",
            "[ 0.66329111  0.72911391 -1.28860759]\n"
          ]
        }
      ]
    },
    {
      "cell_type": "markdown",
      "source": [
        "# Question 2"
      ],
      "metadata": {
        "id": "0hJs_-0VjQtn"
      }
    },
    {
      "cell_type": "code",
      "source": [
        "A1 = np.array([\n",
        "    [-4, 1, 0, 1, 0, 0, 0, 0, 0],\n",
        "    [1, -4, 1, 0, 1, 0, 0, 0, 0],\n",
        "    [0, 1, -4, 0, 0, 1, 0, 0, 0],\n",
        "    [1, 0, 0, -4, 1, 0, 1, 0, 0],\n",
        "    [0, 1, 0, 1, -4, 1, 0, 1, 0],\n",
        "    [0, 0, 1, 0, 1, -4, 0, 0, 1],\n",
        "    [0, 0, 0, 1, 0, 0, -4, 1, 0],\n",
        "    [0, 0, 0, 0, 1, 0, 1, -4, 1],\n",
        "    [0, 0, 0, 0, 0, 1, 0, 1, -4]\n",
        "])\n",
        "b1 = np.array([-100,-20,-20,-80,0,0,-260,-180,-180])\n",
        "initial_guess = np.zeros(9)"
      ],
      "metadata": {
        "id": "2l0whrrvjVfi"
      },
      "execution_count": 6,
      "outputs": []
    },
    {
      "cell_type": "code",
      "source": [
        "# Solution by Gauss Jacobi Method\n",
        "itr = int(input(\"Enter the number of maximum iterations: \"))\n",
        "print(\"Gauss-Jacobi Method:\")\n",
        "x_jacobi = gauss_jacobi(A1, b1, initial_guess,1e-6,itr)\n",
        "print(\"\\nSolution given by Gauss-Jacobi method:\")\n",
        "print(x_jacobi)"
      ],
      "metadata": {
        "colab": {
          "base_uri": "https://localhost:8080/"
        },
        "id": "sPVP6C4GjW8K",
        "outputId": "ced855ff-5938-4b94-f1f7-972f32300432"
      },
      "execution_count": 7,
      "outputs": [
        {
          "output_type": "stream",
          "name": "stdout",
          "text": [
            "Enter the number of maximum iterations: 100\n",
            "Gauss-Jacobi Method:\n",
            "Iteration 1:\tx = 25.000000, 5.000000, 5.000000, 20.000000, -0.000000, -0.000000, 65.000000, 45.000000, 45.000000,\tError = 96.695398\n",
            "Iteration 2:\tx = 31.250000, 12.500000, 6.250000, 42.500000, 17.500000, 12.500000, 81.250000, 72.500000, 56.250000,\tError = 47.037219\n",
            "Iteration 3:\tx = 38.750000, 18.750000, 11.250000, 52.500000, 35.000000, 20.000000, 93.750000, 83.750000, 66.250000,\tError = 31.074507\n",
            "Iteration 4:\tx = 42.812500, 26.250000, 14.687500, 61.875000, 43.750000, 28.125000, 99.062500, 93.750000, 70.937500,\tError = 21.569292\n",
            "Iteration 5:\tx = 47.031250, 30.312500, 18.593750, 66.406250, 52.500000, 32.343750, 103.906250, 98.437500, 75.468750,\tError = 15.179589\n",
            "Iteration 6:\tx = 49.179688, 34.531250, 20.664062, 70.859375, 56.875000, 36.640625, 106.210938, 102.968750, 77.695312,\tError = 10.720788\n",
            "Iteration 7:\tx = 51.347656, 36.679688, 22.792969, 73.066406, 61.250000, 38.808594, 108.457031, 105.195312, 79.902344,\tError = 7.578477\n",
            "Iteration 8:\tx = 52.436523, 38.847656, 23.872070, 75.263672, 63.437500, 40.986328, 109.565430, 107.402344, 81.000977,\tError = 5.358392\n",
            "Iteration 9:\tx = 53.527832, 39.936523, 24.958496, 76.359863, 65.625000, 42.077637, 110.666504, 108.500977, 82.097168,\tError = 3.788885\n",
            "Iteration 10:\tx = 54.074097, 41.027832, 25.503540, 77.454834, 66.718750, 43.170166, 111.215210, 109.597168, 82.644653,\tError = 2.679134\n",
            "Iteration 11:\tx = 54.620667, 41.574097, 26.049500, 78.002014, 67.812500, 43.716736, 111.763000, 110.144653, 83.191833,\tError = 1.894431\n",
            "Iteration 12:\tx = 54.894028, 42.120667, 26.322708, 78.549042, 68.359375, 44.263458, 112.036667, 110.691833, 83.465347,\tError = 1.339565\n",
            "Iteration 13:\tx = 55.167427, 42.394028, 26.596031, 78.822517, 68.906250, 44.536858, 112.310219, 110.965347, 83.738823,\tError = 0.947215\n",
            "Iteration 14:\tx = 55.304136, 42.667427, 26.732721, 79.095974, 69.179688, 44.810276, 112.446966, 111.238823, 83.875551,\tError = 0.669782\n",
            "Iteration 15:\tx = 55.440850, 42.804136, 26.869426, 79.232697, 69.453125, 44.946990, 112.583699, 111.375551, 84.012275,\tError = 0.473608\n",
            "Iteration 16:\tx = 55.509208, 42.940850, 26.937782, 79.369419, 69.589844, 45.083706, 112.652062, 111.512275, 84.080635,\tError = 0.334891\n",
            "Iteration 17:\tx = 55.577567, 43.009208, 27.006139, 79.437779, 69.726562, 45.152065, 112.720423, 111.580635, 84.148995,\tError = 0.236804\n",
            "Iteration 18:\tx = 55.611747, 43.077567, 27.040318, 79.506138, 69.794922, 45.220424, 112.754603, 111.648995, 84.183175,\tError = 0.167446\n",
            "Iteration 19:\tx = 55.645926, 43.111747, 27.074498, 79.540318, 69.863281, 45.254604, 112.788783, 111.683175, 84.217355,\tError = 0.118402\n",
            "Iteration 20:\tx = 55.663016, 43.145926, 27.091588, 79.574498, 69.897461, 45.288783, 112.805873, 111.717355, 84.234445,\tError = 0.083723\n",
            "Iteration 21:\tx = 55.680106, 43.163016, 27.108677, 79.591588, 69.931641, 45.305873, 112.822963, 111.734445, 84.251535,\tError = 0.059201\n",
            "Iteration 22:\tx = 55.688651, 43.180106, 27.117222, 79.608677, 69.948730, 45.322963, 112.831508, 111.751535, 84.260080,\tError = 0.041861\n",
            "Iteration 23:\tx = 55.697196, 43.188651, 27.125767, 79.617222, 69.965820, 45.331508, 112.840053, 111.760080, 84.268624,\tError = 0.029600\n",
            "Iteration 24:\tx = 55.701468, 43.197196, 27.130040, 79.625767, 69.974365, 45.340053, 112.844325, 111.768624, 84.272897,\tError = 0.020931\n",
            "Iteration 25:\tx = 55.705741, 43.201468, 27.134312, 79.630040, 69.982910, 45.344325, 112.848598, 111.772897, 84.277169,\tError = 0.014800\n",
            "Iteration 26:\tx = 55.707877, 43.205741, 27.136448, 79.634312, 69.987183, 45.348598, 112.850734, 111.777169, 84.279306,\tError = 0.010465\n",
            "Iteration 27:\tx = 55.710013, 43.207877, 27.138585, 79.636448, 69.991455, 45.350734, 112.852870, 111.779306, 84.281442,\tError = 0.007400\n",
            "Iteration 28:\tx = 55.711081, 43.210013, 27.139653, 79.638585, 69.993591, 45.352870, 112.853939, 111.781442, 84.282510,\tError = 0.005233\n",
            "Iteration 29:\tx = 55.712149, 43.211081, 27.140721, 79.639653, 69.995728, 45.353939, 112.855007, 111.782510, 84.283578,\tError = 0.003700\n",
            "Iteration 30:\tx = 55.712684, 43.212149, 27.141255, 79.640721, 69.996796, 45.355007, 112.855541, 111.783578, 84.284112,\tError = 0.002616\n",
            "Iteration 31:\tx = 55.713218, 43.212684, 27.141789, 79.641255, 69.997864, 45.355541, 112.856075, 111.784112, 84.284646,\tError = 0.001850\n",
            "Iteration 32:\tx = 55.713485, 43.213218, 27.142056, 79.641789, 69.998398, 45.356075, 112.856342, 111.784646, 84.284913,\tError = 0.001308\n",
            "Iteration 33:\tx = 55.713752, 43.213485, 27.142323, 79.642056, 69.998932, 45.356342, 112.856609, 111.784913, 84.285180,\tError = 0.000925\n",
            "Iteration 34:\tx = 55.713885, 43.213752, 27.142457, 79.642323, 69.999199, 45.356609, 112.856742, 111.785180, 84.285314,\tError = 0.000654\n",
            "Iteration 35:\tx = 55.714019, 43.213885, 27.142590, 79.642457, 69.999466, 45.356742, 112.856876, 111.785314, 84.285447,\tError = 0.000463\n",
            "Iteration 36:\tx = 55.714085, 43.214019, 27.142657, 79.642590, 69.999599, 45.356876, 112.856943, 111.785447, 84.285514,\tError = 0.000327\n",
            "Iteration 37:\tx = 55.714152, 43.214085, 27.142724, 79.642657, 69.999733, 45.356943, 112.857009, 111.785514, 84.285581,\tError = 0.000231\n",
            "Iteration 38:\tx = 55.714186, 43.214152, 27.142757, 79.642724, 69.999800, 45.357009, 112.857043, 111.785581, 84.285614,\tError = 0.000164\n",
            "Iteration 39:\tx = 55.714219, 43.214186, 27.142790, 79.642757, 69.999866, 45.357043, 112.857076, 111.785614, 84.285648,\tError = 0.000116\n",
            "Iteration 40:\tx = 55.714236, 43.214219, 27.142807, 79.642790, 69.999900, 45.357076, 112.857093, 111.785648, 84.285664,\tError = 0.000082\n",
            "Iteration 41:\tx = 55.714252, 43.214236, 27.142824, 79.642807, 69.999933, 45.357093, 112.857109, 111.785664, 84.285681,\tError = 0.000058\n",
            "Iteration 42:\tx = 55.714261, 43.214252, 27.142832, 79.642824, 69.999950, 45.357109, 112.857118, 111.785681, 84.285689,\tError = 0.000041\n",
            "Iteration 43:\tx = 55.714269, 43.214261, 27.142840, 79.642832, 69.999967, 45.357118, 112.857126, 111.785689, 84.285698,\tError = 0.000029\n",
            "Iteration 44:\tx = 55.714273, 43.214269, 27.142845, 79.642840, 69.999975, 45.357126, 112.857130, 111.785698, 84.285702,\tError = 0.000020\n",
            "Iteration 45:\tx = 55.714277, 43.214273, 27.142849, 79.642845, 69.999983, 45.357130, 112.857135, 111.785702, 84.285706,\tError = 0.000014\n",
            "Iteration 46:\tx = 55.714279, 43.214277, 27.142851, 79.642849, 69.999987, 45.357135, 112.857137, 111.785706, 84.285708,\tError = 0.000010\n",
            "Iteration 47:\tx = 55.714282, 43.214279, 27.142853, 79.642851, 69.999992, 45.357137, 112.857139, 111.785708, 84.285710,\tError = 0.000007\n",
            "Iteration 48:\tx = 55.714283, 43.214282, 27.142854, 79.642853, 69.999994, 45.357139, 112.857140, 111.785710, 84.285711,\tError = 0.000005\n",
            "Iteration 49:\tx = 55.714284, 43.214283, 27.142855, 79.642854, 69.999996, 45.357140, 112.857141, 111.785711, 84.285712,\tError = 0.000004\n",
            "Iteration 50:\tx = 55.714284, 43.214284, 27.142856, 79.642855, 69.999997, 45.357141, 112.857141, 111.785712, 84.285713,\tError = 0.000003\n",
            "Iteration 51:\tx = 55.714285, 43.214284, 27.142856, 79.642856, 69.999998, 45.357141, 112.857142, 111.785713, 84.285713,\tError = 0.000002\n",
            "Iteration 52:\tx = 55.714285, 43.214285, 27.142856, 79.642856, 69.999998, 45.357142, 112.857142, 111.785713, 84.285714,\tError = 0.000001\n",
            "Iteration 53:\tx = 55.714285, 43.214285, 27.142857, 79.642856, 69.999999, 45.357142, 112.857142, 111.785714, 84.285714,\tError = 0.000001\n",
            "Gauss-Jacobi method converged after 53 iterations.\n",
            "\n",
            "Solution given by Gauss-Jacobi method:\n",
            "[ 55.71428519  43.21428493  27.14285662  79.64285636  69.99999896\n",
            "  45.35714207 112.85714234 111.7857135   84.28571376]\n"
          ]
        }
      ]
    },
    {
      "cell_type": "code",
      "source": [
        "# Solution by Gauss Seidel Method\n",
        "itr = int(input(\"Enter the number of maximum iterations: \"))\n",
        "print(\"Gauss-Seidel Method:\")\n",
        "x_seidel = gauss_seidel(A1, b1, initial_guess,1e-6,itr)\n",
        "print(\"\\nSolution given by Gauss-Jacobi method:\")\n",
        "print(x_seidel)"
      ],
      "metadata": {
        "colab": {
          "base_uri": "https://localhost:8080/"
        },
        "id": "JZxr9deMjZzz",
        "outputId": "cde2f203-668d-41be-bac6-98bbcb9a84b0"
      },
      "execution_count": 8,
      "outputs": [
        {
          "output_type": "stream",
          "name": "stdout",
          "text": [
            "Enter the number of maximum iterations: 100\n",
            "Gauss-Seidel Method:\n",
            "Iteration 1:\tx = 25.000000, 11.250000, 7.812500, 26.250000, 9.375000, 4.296875, 71.562500, 65.234375, 62.382812,\tError = 158.569705\n",
            "Iteration 2:\tx = 34.375000, 17.890625, 10.546875, 48.828125, 34.062500, 26.748047, 93.515625, 92.490234, 74.809570,\tError = 88.360721\n",
            "Iteration 3:\tx = 41.679688, 26.572266, 18.330078, 62.314453, 52.031250, 36.292725, 103.701172, 102.635498, 79.732056,\tError = 50.768387\n",
            "Iteration 4:\tx = 47.221680, 34.395752, 22.672119, 70.738525, 61.015625, 40.854950, 108.343506, 107.272797, 82.031937,\tError = 27.654879\n",
            "Iteration 5:\tx = 51.283569, 38.742828, 24.899445, 75.160675, 65.507812, 43.109798, 110.608368, 109.537029, 83.161707,\tError = 14.173738\n",
            "Iteration 6:\tx = 53.475876, 40.970783, 26.020145, 77.398014, 67.753906, 44.233940, 111.733761, 110.662344, 83.724071,\tError = 7.131876\n",
            "Iteration 7:\tx = 54.592199, 42.091563, 26.581376, 78.519967, 68.876953, 44.795600, 112.295578, 111.224150, 84.004938,\tError = 3.571616\n",
            "Iteration 8:\tx = 55.152882, 42.652803, 26.862101, 79.081353, 69.438477, 45.076379, 112.576376, 111.504948, 84.145332,\tError = 1.786519\n",
            "Iteration 9:\tx = 55.433539, 42.933529, 27.002477, 79.362098, 69.719238, 45.216762, 112.716761, 111.645333, 84.215524,\tError = 0.893349\n",
            "Iteration 10:\tx = 55.573907, 43.073905, 27.072667, 79.502477, 69.859619, 45.286952, 112.786952, 111.715524, 84.250619,\tError = 0.446685\n",
            "Iteration 11:\tx = 55.644096, 43.144095, 27.107762, 79.572667, 69.929810, 45.322048, 112.822048, 111.750619, 84.268167,\tError = 0.223344\n",
            "Iteration 12:\tx = 55.679191, 43.179191, 27.125310, 79.607762, 69.964905, 45.339595, 112.839595, 111.768167, 84.276940,\tError = 0.111672\n",
            "Iteration 13:\tx = 55.696738, 43.196738, 27.134083, 79.625310, 69.982452, 45.348369, 112.848369, 111.776940, 84.281327,\tError = 0.055836\n",
            "Iteration 14:\tx = 55.705512, 43.205512, 27.138470, 79.634083, 69.991226, 45.352756, 112.852756, 111.781327, 84.283521,\tError = 0.027918\n",
            "Iteration 15:\tx = 55.709899, 43.209899, 27.140664, 79.638470, 69.995613, 45.354949, 112.854949, 111.783521, 84.284618,\tError = 0.013959\n",
            "Iteration 16:\tx = 55.712092, 43.212092, 27.141760, 79.640664, 69.997807, 45.356046, 112.856046, 111.784618, 84.285166,\tError = 0.006980\n",
            "Iteration 17:\tx = 55.713189, 43.213189, 27.142309, 79.641760, 69.998903, 45.356594, 112.856594, 111.785166, 84.285440,\tError = 0.003490\n",
            "Iteration 18:\tx = 55.713737, 43.213737, 27.142583, 79.642309, 69.999452, 45.356869, 112.856869, 111.785440, 84.285577,\tError = 0.001745\n",
            "Iteration 19:\tx = 55.714012, 43.214012, 27.142720, 79.642583, 69.999726, 45.357006, 112.857006, 111.785577, 84.285646,\tError = 0.000872\n",
            "Iteration 20:\tx = 55.714149, 43.214149, 27.142789, 79.642720, 69.999863, 45.357074, 112.857074, 111.785646, 84.285680,\tError = 0.000436\n",
            "Iteration 21:\tx = 55.714217, 43.214217, 27.142823, 79.642789, 69.999931, 45.357109, 112.857109, 111.785680, 84.285697,\tError = 0.000218\n",
            "Iteration 22:\tx = 55.714251, 43.214251, 27.142840, 79.642823, 69.999966, 45.357126, 112.857126, 111.785697, 84.285706,\tError = 0.000109\n",
            "Iteration 23:\tx = 55.714269, 43.214269, 27.142849, 79.642840, 69.999983, 45.357134, 112.857134, 111.785706, 84.285710,\tError = 0.000055\n",
            "Iteration 24:\tx = 55.714277, 43.214277, 27.142853, 79.642849, 69.999991, 45.357139, 112.857139, 111.785710, 84.285712,\tError = 0.000027\n",
            "Iteration 25:\tx = 55.714281, 43.214281, 27.142855, 79.642853, 69.999996, 45.357141, 112.857141, 111.785712, 84.285713,\tError = 0.000014\n",
            "Iteration 26:\tx = 55.714284, 43.214284, 27.142856, 79.642855, 69.999998, 45.357142, 112.857142, 111.785713, 84.285714,\tError = 0.000007\n",
            "Iteration 27:\tx = 55.714285, 43.214285, 27.142857, 79.642856, 69.999999, 45.357142, 112.857142, 111.785714, 84.285714,\tError = 0.000003\n",
            "Iteration 28:\tx = 55.714285, 43.214285, 27.142857, 79.642857, 69.999999, 45.357143, 112.857143, 111.785714, 84.285714,\tError = 0.000002\n",
            "Iteration 29:\tx = 55.714285, 43.214285, 27.142857, 79.642857, 70.000000, 45.357143, 112.857143, 111.785714, 84.285714,\tError = 0.000001\n",
            "Gauss-Seidel method converged after 29 iterations.\n",
            "\n",
            "Solution given by Gauss-Jacobi method:\n",
            "[ 55.71428545  43.21428545  27.14285701  79.64285688  69.99999973\n",
            "  45.35714272 112.85714272 111.78571415  84.28571422]\n"
          ]
        }
      ]
    },
    {
      "cell_type": "code",
      "source": [
        "# Solution using inbuilt function in numpy library\n",
        "import numpy as np\n",
        "x = np.linalg.solve(A1, b1)\n",
        "print(\"Solution:\", x)"
      ],
      "metadata": {
        "colab": {
          "base_uri": "https://localhost:8080/"
        },
        "id": "YEtHuKLrEVii",
        "outputId": "42d516ab-83fb-43c1-9806-29207869a077"
      },
      "execution_count": 9,
      "outputs": [
        {
          "output_type": "stream",
          "name": "stdout",
          "text": [
            "Solution: [ 55.71428571  43.21428571  27.14285714  79.64285714  70.\n",
            "  45.35714286 112.85714286 111.78571429  84.28571429]\n"
          ]
        }
      ]
    },
    {
      "cell_type": "markdown",
      "source": [
        "# Question 3\n"
      ],
      "metadata": {
        "id": "CUU4CpJPkMie"
      }
    },
    {
      "cell_type": "markdown",
      "source": [
        "**Question:** An oil company wants build 25 cuboid tanks with a combined capacity of\n",
        "28,000 cubic meter. Three different types of tank designs are under consideration: a 10-meter\n",
        "wide tank with a capacity of 350 cubic meter, a 14-meter wide tank with a capacity of 700 cubic\n",
        "meter, and a 24-meter tank with a capacity of 1,400 cubic meter. How many of each type of tank\n",
        "the company can build?"
      ],
      "metadata": {
        "id": "gXGgW1d22ute"
      }
    },
    {
      "cell_type": "markdown",
      "source": [
        "Let us formulate this problem into the simple mathematical equations as follows:\n",
        "Let $x_1$, $x_2$ and $x_3$ be the number of 10-meter, 14 meter, and 24 meter wide tank of capacity 350,700, 1400 cubic meters respectively.\n",
        "Company want to build total tanks = 25 with combined capacity of 28000 cubic meter . Therefore we can write it as:\n",
        "> $x_1 + x_2 + x_3 = 25 $\n",
        "\n",
        ">  $350 x_1 + 700 x_2 + 1400 x_3 = 28000$\n",
        "\n",
        "This system is underdetermined as we have three variables and only two equations\n",
        "and we can see below that: rank(A) = rank(A:b) $<$ number of variables, hence system has more than one solution.\n",
        "\n"
      ],
      "metadata": {
        "id": "MHmvfQL2F3a5"
      }
    },
    {
      "cell_type": "code",
      "source": [
        "import numpy as np\n",
        "A2 = np.array([[1, 1, 1],\n",
        "              [350, 700, 1400]])\n",
        "b2 = np.array([25, 28000])\n",
        "rank_A2 = np.linalg.matrix_rank(A2)\n",
        "augmented_matrix = np.column_stack((A2, b2))\n",
        "rank_augmented = np.linalg.matrix_rank(augmented_matrix)\n",
        "solution = np.linalg.lstsq(A2, b2, rcond=None)[0]\n",
        "solution = np.round(solution).astype(int)\n",
        "print(\"Matrix A:\")\n",
        "print(A2)\n",
        "print(\"\\nMatrix b:\")\n",
        "print(b2.T)\n",
        "print(\"\\nRank of matrix A:\", rank_A2)\n",
        "print(\"\\nAugmented matrix:\")\n",
        "print(augmented_matrix)\n",
        "print(\"\\nRank of augmented matrix:\", rank_augmented)\n",
        "print(\"\\nSolution:\")\n",
        "print(\"Number of 10-meter wide tanks:\", solution[0])\n",
        "print(\"Number of 14-meter wide tanks:\", solution[1])\n",
        "print(\"Number of 24-meter wide tanks:\", solution[2])\n"
      ],
      "metadata": {
        "colab": {
          "base_uri": "https://localhost:8080/"
        },
        "id": "Cwtz0ZJzlLgw",
        "outputId": "23170e3f-1969-4c0f-a7a7-54f0ea50a502"
      },
      "execution_count": 10,
      "outputs": [
        {
          "output_type": "stream",
          "name": "stdout",
          "text": [
            "Matrix A:\n",
            "[[   1    1    1]\n",
            " [ 350  700 1400]]\n",
            "\n",
            "Matrix b:\n",
            "[   25 28000]\n",
            "\n",
            "Rank of matrix A: 2\n",
            "\n",
            "Augmented matrix:\n",
            "[[    1     1     1    25]\n",
            " [  350   700  1400 28000]]\n",
            "\n",
            "Rank of augmented matrix: 2\n",
            "\n",
            "Solution:\n",
            "Number of 10-meter wide tanks: 2\n",
            "Number of 14-meter wide tanks: 7\n",
            "Number of 24-meter wide tanks: 16\n"
          ]
        }
      ]
    },
    {
      "cell_type": "markdown",
      "source": [
        "#Question 4"
      ],
      "metadata": {
        "id": "_res0WSkkrZm"
      }
    },
    {
      "cell_type": "markdown",
      "source": [
        "For this question, the following source is used to get the weather data of Jodhpur for the year 2021, though the source contains data of more than 1 year, i selected data for 2021, and created a .csv file, uploaded on google drive and during runntime, fetching the data by mounting google drive"
      ],
      "metadata": {
        "id": "UWo0MQEG6kPl"
      }
    },
    {
      "cell_type": "markdown",
      "source": [
        "[Source of weather dataset](https://www.kaggle.com/datasets/vanvalkenberg/historicalweatherdataforindiancities?resource=download)"
      ],
      "metadata": {
        "id": "IwAGhJEW6c3V"
      }
    },
    {
      "cell_type": "code",
      "source": [
        "#dataset is fetched using google drive\n",
        "from google.colab import drive\n",
        "drive.mount('/content/drive')"
      ],
      "metadata": {
        "colab": {
          "base_uri": "https://localhost:8080/"
        },
        "id": "r5MheDVyqohI",
        "outputId": "e40d0cc3-515b-4188-97a5-7a08929f6409"
      },
      "execution_count": 11,
      "outputs": [
        {
          "output_type": "stream",
          "name": "stdout",
          "text": [
            "Mounted at /content/drive\n"
          ]
        }
      ]
    },
    {
      "cell_type": "code",
      "source": [
        "import pandas as pd\n",
        "import pandas as pd\n",
        "import numpy as np\n",
        "from sklearn.preprocessing import PolynomialFeatures\n",
        "from sklearn.linear_model import LinearRegression\n",
        "import matplotlib.pyplot as plt"
      ],
      "metadata": {
        "id": "-yUazGsDV-NH"
      },
      "execution_count": 12,
      "outputs": []
    },
    {
      "cell_type": "code",
      "source": [
        "data = '/content/drive/MyDrive/Jodhpur21.csv'\n",
        "df = pd.read_csv(data)"
      ],
      "metadata": {
        "id": "77OY4NFcNiU4"
      },
      "execution_count": 13,
      "outputs": []
    },
    {
      "cell_type": "code",
      "source": [
        "df['date'] = pd.to_datetime(df['date'])\n",
        "df.set_index('date', inplace=True)\n",
        "df['day_of_year'] = df.index.dayofyear"
      ],
      "metadata": {
        "colab": {
          "base_uri": "https://localhost:8080/"
        },
        "id": "eEVL48RvY3EB",
        "outputId": "057671d5-9f18-4a28-c904-40519b34c904"
      },
      "execution_count": 14,
      "outputs": [
        {
          "output_type": "stream",
          "name": "stderr",
          "text": [
            "<ipython-input-14-41733989c36b>:1: UserWarning: Parsing dates in DD/MM/YYYY format when dayfirst=False (the default) was specified. This may lead to inconsistently parsed dates! Specify a format to ensure consistent parsing.\n",
            "  df['date'] = pd.to_datetime(df['date'])\n"
          ]
        }
      ]
    },
    {
      "cell_type": "code",
      "source": [
        "X = df[['day_of_year']]\n",
        "y = df['tmin']\n",
        "z = df['tmax']"
      ],
      "metadata": {
        "id": "QNFV7pEPY7S0"
      },
      "execution_count": 15,
      "outputs": []
    },
    {
      "cell_type": "code",
      "source": [
        "poly1 = PolynomialFeatures(degree=5)\n",
        "x1 = poly1.fit_transform(X)\n",
        "model1 = LinearRegression()\n",
        "model1.fit(x1, y)\n",
        "X_pred1 = np.arange(1, 366).reshape(-1, 1)\n",
        "X_pred_poly1 = poly1.transform(X_pred1)\n",
        "y_pred1 = model1.predict(X_pred_poly1)"
      ],
      "metadata": {
        "colab": {
          "base_uri": "https://localhost:8080/"
        },
        "id": "6oCD2uKdYmyC",
        "outputId": "a6c169b1-60b7-406c-e8f8-f07ef0f0fe79"
      },
      "execution_count": 16,
      "outputs": [
        {
          "output_type": "stream",
          "name": "stderr",
          "text": [
            "/usr/local/lib/python3.10/dist-packages/sklearn/base.py:439: UserWarning: X does not have valid feature names, but PolynomialFeatures was fitted with feature names\n",
            "  warnings.warn(\n"
          ]
        }
      ]
    },
    {
      "cell_type": "markdown",
      "source": [
        "Here we are fiiting a 5 degree curve for polynomial regression"
      ],
      "metadata": {
        "id": "d9OZQbI7SK87"
      }
    },
    {
      "cell_type": "code",
      "source": [
        "poly2 = PolynomialFeatures(degree=5)\n",
        "x2 = poly2.fit_transform(X)\n",
        "model2 = LinearRegression()\n",
        "model2.fit(x2, z)\n",
        "X_pred2 = np.arange(1, 366).reshape(-1, 1)\n",
        "X_pred_poly2 = poly2.transform(X_pred2)\n",
        "y_pred2 = model2.predict(X_pred_poly2)"
      ],
      "metadata": {
        "colab": {
          "base_uri": "https://localhost:8080/"
        },
        "id": "xVpg87WnQWQb",
        "outputId": "f94d9c77-ad1a-4e2c-bd3e-07e6c743972b"
      },
      "execution_count": 17,
      "outputs": [
        {
          "output_type": "stream",
          "name": "stderr",
          "text": [
            "/usr/local/lib/python3.10/dist-packages/sklearn/base.py:439: UserWarning: X does not have valid feature names, but PolynomialFeatures was fitted with feature names\n",
            "  warnings.warn(\n"
          ]
        }
      ]
    },
    {
      "cell_type": "code",
      "source": [
        "plt.figure(figsize=(10, 6))\n",
        "plt.scatter(df.index, y, color='blue', label='Min Temp')\n",
        "plt.plot(pd.date_range(start='2021-01-01', end='2021-12-31', freq='D'), y_pred1, color='red', label='Min temp curve')\n",
        "plt.scatter(df.index, z, color='orange', label='Max Temp')\n",
        "plt.plot(pd.date_range(start='2021-01-01', end='2021-12-31', freq='D'), y_pred2, color='green', label='Max temp curve')\n",
        "plt.xlabel('Date')\n",
        "plt.ylabel('Temperature (°C)')\n",
        "plt.title('Curve fitting for Temperature Data')\n",
        "plt.legend()\n",
        "plt.grid(True)\n",
        "plt.show()"
      ],
      "metadata": {
        "colab": {
          "base_uri": "https://localhost:8080/",
          "height": 564
        },
        "id": "IOalpPrzOMq4",
        "outputId": "963efcc3-6afb-4f89-89bd-31c68f3d67bc"
      },
      "execution_count": 18,
      "outputs": [
        {
          "output_type": "display_data",
          "data": {
            "text/plain": [
              "<Figure size 1000x600 with 1 Axes>"
            ],
            "image/png": "[encoded data removed]"
          },
          "metadata": {}
        }
      ]
    },
    {
      "cell_type": "markdown",
      "source": [
        "# Question 5\n"
      ],
      "metadata": {
        "id": "79Rt6OdhliRU"
      }
    },
    {
      "cell_type": "code",
      "source": [
        "import pandas as pd\n",
        "record = {\n",
        "    \"Sr. No.\": [428, 215, 221, 159, 247, 146, 222, 449, 225, 257, 299, 315, 329, 460, 507, 171, 232, 249, 389, 484, 485, 506, 63, 141, 280, 324, 492, 400, 34],\n",
        "    \"T1\": [17, 15, 16, 15, 14, 15, 12, 14, 18, 17, 13, 10, 13, 15, 15, 14, 13, 13, 14, 9, 12, 15, 13, 15, 2, 0, 11, 8, 3],\n",
        "    \"T2\": [15, 18, 20, 16, 15, 17, 11, 13, 18, 13, 15, 12, 15, 10, 16, 14, 15, 17, 10, 9, 8, 7, 8, 12, 10, 0, 3, 13, 1],\n",
        "    \"T3\": [28, 30, 23, 28, 29, 25, 29, 28, 25, 23, 20, 24, 20, 26, 26, 25, 15, 23, 18, 24, 24, 16, 15, 17, 17, 22, 16, 8, 18],\n",
        "    \"T4\": [29, 27, 31, 28, 32, 31, 24, 23, 23, 26, 29, 27, 28, 22, 27, 22, 28, 21, 19, 16, 20, 20, 23, 22, 14, 9, 12, 13, 12],\n",
        "    \"G\": [10, 10, 10, 10, 10, 10, 9, 9, 9, 9, 9, 9, 9, 9, 8, 8, 8, 8, 8, 7, 7, 7, 7, 7, 7, 6, 6, 6, 6]\n",
        "}\n",
        "df = pd.DataFrame(record)\n",
        "print(\"THE GIVEN RECORD OF STUDENTS\")\n",
        "print(df)"
      ],
      "metadata": {
        "colab": {
          "base_uri": "https://localhost:8080/"
        },
        "id": "YezwocjrlQ3X",
        "outputId": "6a3500c9-d3fb-4a4a-d53a-eb828d61bd58"
      },
      "execution_count": 19,
      "outputs": [
        {
          "output_type": "stream",
          "name": "stdout",
          "text": [
            "THE GIVEN RECORD OF STUDENTS\n",
            "    Sr. No.  T1  T2  T3  T4   G\n",
            "0       428  17  15  28  29  10\n",
            "1       215  15  18  30  27  10\n",
            "2       221  16  20  23  31  10\n",
            "3       159  15  16  28  28  10\n",
            "4       247  14  15  29  32  10\n",
            "5       146  15  17  25  31  10\n",
            "6       222  12  11  29  24   9\n",
            "7       449  14  13  28  23   9\n",
            "8       225  18  18  25  23   9\n",
            "9       257  17  13  23  26   9\n",
            "10      299  13  15  20  29   9\n",
            "11      315  10  12  24  27   9\n",
            "12      329  13  15  20  28   9\n",
            "13      460  15  10  26  22   9\n",
            "14      507  15  16  26  27   8\n",
            "15      171  14  14  25  22   8\n",
            "16      232  13  15  15  28   8\n",
            "17      249  13  17  23  21   8\n",
            "18      389  14  10  18  19   8\n",
            "19      484   9   9  24  16   7\n",
            "20      485  12   8  24  20   7\n",
            "21      506  15   7  16  20   7\n",
            "22       63  13   8  15  23   7\n",
            "23      141  15  12  17  22   7\n",
            "24      280   2  10  17  14   7\n",
            "25      324   0   0  22   9   6\n",
            "26      492  11   3  16  12   6\n",
            "27      400   8  13   8  13   6\n",
            "28       34   3   1  18  12   6\n"
          ]
        }
      ]
    },
    {
      "cell_type": "code",
      "source": [
        "# Function to recommend grade points to the students using SVD\n",
        "def predict_grades(df, students):\n",
        "    U, sigma, V = np.linalg.svd(df[['T1', 'T2', 'T3', 'T4']], full_matrices=False)\n",
        "    V = V.T\n",
        "    grades = []\n",
        "    for _, student in students.iterrows():\n",
        "        marks = np.array([student['T1'], student['T2'], student['T3'], student['T4']])\n",
        "        proj_marks = np.dot(marks, V)\n",
        "        # Reconstruct marks by using the principal components\n",
        "        marks_redefined = np.dot(proj_marks, V.T)\n",
        "        #Finding the average of reconstructed mark\n",
        "        mean_defined_marks = np.mean(marks_redefined)\n",
        "        # Find the grade point closest to the average mark\n",
        "        near_grade = min(df['G'], key=lambda x: abs(x - mean_defined_marks))\n",
        "        grades.append(near_grade)\n",
        "    return grades\n"
      ],
      "metadata": {
        "id": "rAzSCddeia6c"
      },
      "execution_count": 20,
      "outputs": []
    },
    {
      "cell_type": "code",
      "source": [
        "test_data = {\n",
        "    \"Sr. No.\": [127, 365, 210, 34],\n",
        "    \"T1\": [10, 13, 18, 3],\n",
        "    \"T2\": [7, 15, 18, 1],\n",
        "    \"T3\": [15, 25, 28, 18],\n",
        "    \"T4\": [20, 18, 27, 12]\n",
        "}\n",
        "new_students_data = pd.DataFrame(test_data)\n",
        "new_students_data['Predicted_G'] = predict_grades(df, new_students_data)\n",
        "print(\"The grades recommended to the new students are:\\n\")\n",
        "print(new_students_data['Predicted_G'] )\n",
        "print(\"\\nRecommended Grades for the given students with their complete data is as:\\n\")\n",
        "print(new_students_data)"
      ],
      "metadata": {
        "colab": {
          "base_uri": "https://localhost:8080/"
        },
        "id": "zslCbiXulrDk",
        "outputId": "285cdf69-18aa-4fbc-a2cb-8f5427ae7daa"
      },
      "execution_count": 21,
      "outputs": [
        {
          "output_type": "stream",
          "name": "stdout",
          "text": [
            "The grades recommended to the new students are:\n",
            "\n",
            "0    10\n",
            "1    10\n",
            "2    10\n",
            "3     9\n",
            "Name: Predicted_G, dtype: int64\n",
            "\n",
            "Recommended Grades for the given students with their complete data is as:\n",
            "\n",
            "   Sr. No.  T1  T2  T3  T4  Predicted_G\n",
            "0      127  10   7  15  20           10\n",
            "1      365  13  15  25  18           10\n",
            "2      210  18  18  28  27           10\n",
            "3       34   3   1  18  12            9\n"
          ]
        }
      ]
    }
  ]
}